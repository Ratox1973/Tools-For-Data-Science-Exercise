{
 "cells": [
  {
   "cell_type": "markdown",
   "id": "e3779624-4c47-4bfc-ad95-c7a287a5c7dd",
   "metadata": {},
   "source": [
    "# Data Science Tools and Ecosystem"
   ]
  },
  {
   "cell_type": "markdown",
   "id": "f227427c-169a-40c7-9899-812884fe2cf8",
   "metadata": {},
   "source": [
    "### In this notebook, Data Science Tools and Ecosystem are summarized."
   ]
  },
  {
   "cell_type": "markdown",
   "id": "3f7062b2-c316-4bc8-94c7-568874bac94e",
   "metadata": {},
   "source": [
    "##### Some  of the popular languages that Data Scientists use are:\n",
    "##### Python\n",
    "##### R\n",
    "##### Julia\n",
    "##### Go\n",
    "##### Vim\n",
    "##### C\n",
    "##### C++\n",
    "##### Java"
   ]
  },
  {
   "cell_type": "markdown",
   "id": "82acaae6-bdfd-4efb-9a4b-4ed40f180b45",
   "metadata": {},
   "source": [
    "##### Some of the common libraries used by Data Scientists include:\n",
    "##### Matplotlib\n",
    "##### Numpy\n",
    "##### ggplot2\n",
    "##### Math"
   ]
  },
  {
   "cell_type": "code",
   "execution_count": 13,
   "id": "116ac56d-7eb6-4247-b725-f2583d1e9062",
   "metadata": {},
   "outputs": [],
   "source": [
    "import pandas as pd"
   ]
  },
  {
   "cell_type": "code",
   "execution_count": 19,
   "id": "0c42bd98-91ef-4b80-9a78-c05e977af8ea",
   "metadata": {},
   "outputs": [],
   "source": [
    "DSTools={\"Data Science Tools\":[\"Jupiter Notebook\", \"R Studio\", \"Spyder\", \"Visual Studio\"]}"
   ]
  },
  {
   "cell_type": "code",
   "execution_count": 22,
   "id": "4c047b9b-2dd7-44b8-9bfe-25823b4501a7",
   "metadata": {},
   "outputs": [
    {
     "data": {
      "text/html": [
       "<div>\n",
       "<style scoped>\n",
       "    .dataframe tbody tr th:only-of-type {\n",
       "        vertical-align: middle;\n",
       "    }\n",
       "\n",
       "    .dataframe tbody tr th {\n",
       "        vertical-align: top;\n",
       "    }\n",
       "\n",
       "    .dataframe thead th {\n",
       "        text-align: right;\n",
       "    }\n",
       "</style>\n",
       "<table border=\"1\" class=\"dataframe\">\n",
       "  <thead>\n",
       "    <tr style=\"text-align: right;\">\n",
       "      <th></th>\n",
       "      <th>Data Science Tools</th>\n",
       "    </tr>\n",
       "  </thead>\n",
       "  <tbody>\n",
       "    <tr>\n",
       "      <th>0</th>\n",
       "      <td>Jupiter Notebook</td>\n",
       "    </tr>\n",
       "    <tr>\n",
       "      <th>1</th>\n",
       "      <td>R Studio</td>\n",
       "    </tr>\n",
       "    <tr>\n",
       "      <th>2</th>\n",
       "      <td>Spyder</td>\n",
       "    </tr>\n",
       "    <tr>\n",
       "      <th>3</th>\n",
       "      <td>Visual Studio</td>\n",
       "    </tr>\n",
       "  </tbody>\n",
       "</table>\n",
       "</div>"
      ],
      "text/plain": [
       "  Data Science Tools\n",
       "0   Jupiter Notebook\n",
       "1           R Studio\n",
       "2             Spyder\n",
       "3      Visual Studio"
      ]
     },
     "execution_count": 22,
     "metadata": {},
     "output_type": "execute_result"
    }
   ],
   "source": [
    "df=pd.DataFrame(DSTools)\n",
    "df"
   ]
  },
  {
   "cell_type": "markdown",
   "id": "50d167ed-8af9-48ae-a4a2-1e1d6556d637",
   "metadata": {},
   "source": [
    "### Below are a few examples of evaluating arithmetic expressions in Pyton"
   ]
  },
  {
   "cell_type": "code",
   "execution_count": 25,
   "id": "0eb7cc8f-e11a-4054-84c6-11b9898777bf",
   "metadata": {},
   "outputs": [
    {
     "data": {
      "text/plain": [
       "17"
      ]
     },
     "execution_count": 25,
     "metadata": {},
     "output_type": "execute_result"
    }
   ],
   "source": [
    "# This is a simple arithmetic expression to multiply the add integers.\n",
    "(3*4)+5"
   ]
  },
  {
   "cell_type": "code",
   "execution_count": 31,
   "id": "83ae3a4f-d143-4239-8bb8-ce2a9bbd7ef0",
   "metadata": {},
   "outputs": [
    {
     "data": {
      "text/plain": [
       "3"
      ]
     },
     "execution_count": 31,
     "metadata": {},
     "output_type": "execute_result"
    }
   ],
   "source": [
    "# This will convert 200 minutes to hours dividing by 60.\n",
    "200//60"
   ]
  },
  {
   "cell_type": "markdown",
   "id": "24dedd00-4a8a-48af-be4e-a3e2b3124384",
   "metadata": {},
   "source": [
    "__Objectives:__\n",
    "- Python\n",
    "- Java\n",
    "- Julia\n",
    "- R\n",
    "- SQL\n",
    "- MySql"
   ]
  },
  {
   "cell_type": "markdown",
   "id": "c6968a37-445d-4165-8136-48af36f73d0c",
   "metadata": {},
   "source": [
    "## Author\n",
    "Sérgio Rato Cordeiro"
   ]
  },
  {
   "cell_type": "code",
   "execution_count": null,
   "id": "fa9694cd-869d-4a18-ba0c-b61d074f5cb5",
   "metadata": {},
   "outputs": [],
   "source": []
  }
 ],
 "metadata": {
  "kernelspec": {
   "display_name": "anaconda-2024.02-py310",
   "language": "python",
   "name": "conda-env-anaconda-2024.02-py310-py"
  },
  "language_info": {
   "codemirror_mode": {
    "name": "ipython",
    "version": 3
   },
   "file_extension": ".py",
   "mimetype": "text/x-python",
   "name": "python",
   "nbconvert_exporter": "python",
   "pygments_lexer": "ipython3",
   "version": "3.10.14"
  }
 },
 "nbformat": 4,
 "nbformat_minor": 5
}
